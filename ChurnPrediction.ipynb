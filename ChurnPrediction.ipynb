{
 "cells": [
  {
   "cell_type": "markdown",
   "metadata": {},
   "source": [
    "# Customer churn prediction"
   ]
  },
  {
   "cell_type": "markdown",
   "metadata": {},
   "source": [
    "The goal of this project is to find insights about features and choose the best machine learning classification algorithm to predict churn better."
   ]
  },
  {
   "cell_type": "markdown",
   "metadata": {},
   "source": [
    "Source: [kaggle.com/datasets/shrutimechlearn/churn-modelling](https://www.kaggle.com/datasets/shrutimechlearn/churn-modelling)"
   ]
  },
  {
   "cell_type": "markdown",
   "metadata": {},
   "source": [
    "## Import packages and functions"
   ]
  },
  {
   "cell_type": "code",
   "execution_count": 1,
   "metadata": {},
   "outputs": [],
   "source": [
    "import pandas as pd\n",
    "import numpy as np\n",
    "import matplotlib.pyplot as plt\n",
    "import seaborn as sns\n",
    "\n",
    "import warnings\n",
    "warnings.filterwarnings('ignore')\n",
    "\n",
    "from sklearn.model_selection import train_test_split\n",
    "from sklearn.preprocessing import OneHotEncoder\n",
    "\n",
    "from sklearn.pipeline import Pipeline\n",
    "from sklearn.model_selection import GridSearchCV\n",
    "from sklearn.model_selection import KFold\n",
    "from sklearn.linear_model import LogisticRegression\n",
    "from sklearn.tree import DecisionTreeClassifier\n",
    "from sklearn.ensemble import RandomForestClassifier\n",
    "from sklearn.ensemble import GradientBoostingClassifier\n",
    "from xgboost import XGBClassifier\n",
    "\n",
    "from visualization import *\n",
    "from woe_transformation import *\n",
    "from evaluation import *\n",
    "\n",
    "import time\n",
    "start_time = time.time()"
   ]
  },
  {
   "cell_type": "markdown",
   "metadata": {},
   "source": [
    "## Load dataset"
   ]
  },
  {
   "cell_type": "code",
   "execution_count": 2,
   "metadata": {},
   "outputs": [],
   "source": [
    "df = pd.read_csv('data/churn.csv')"
   ]
  },
  {
   "cell_type": "code",
   "execution_count": 3,
   "metadata": {},
   "outputs": [
    {
     "data": {
      "text/html": [
       "<div>\n",
       "<style scoped>\n",
       "    .dataframe tbody tr th:only-of-type {\n",
       "        vertical-align: middle;\n",
       "    }\n",
       "\n",
       "    .dataframe tbody tr th {\n",
       "        vertical-align: top;\n",
       "    }\n",
       "\n",
       "    .dataframe thead th {\n",
       "        text-align: right;\n",
       "    }\n",
       "</style>\n",
       "<table border=\"1\" class=\"dataframe\">\n",
       "  <thead>\n",
       "    <tr style=\"text-align: right;\">\n",
       "      <th></th>\n",
       "      <th>RowNumber</th>\n",
       "      <th>CustomerId</th>\n",
       "      <th>Surname</th>\n",
       "      <th>CreditScore</th>\n",
       "      <th>Geography</th>\n",
       "      <th>Gender</th>\n",
       "      <th>Age</th>\n",
       "      <th>Tenure</th>\n",
       "      <th>Balance</th>\n",
       "      <th>NumOfProducts</th>\n",
       "      <th>HasCrCard</th>\n",
       "      <th>IsActiveMember</th>\n",
       "      <th>EstimatedSalary</th>\n",
       "      <th>Exited</th>\n",
       "    </tr>\n",
       "  </thead>\n",
       "  <tbody>\n",
       "    <tr>\n",
       "      <th>0</th>\n",
       "      <td>1</td>\n",
       "      <td>15634602</td>\n",
       "      <td>Hargrave</td>\n",
       "      <td>619</td>\n",
       "      <td>France</td>\n",
       "      <td>Female</td>\n",
       "      <td>42</td>\n",
       "      <td>2</td>\n",
       "      <td>0.00</td>\n",
       "      <td>1</td>\n",
       "      <td>1</td>\n",
       "      <td>1</td>\n",
       "      <td>101348.88</td>\n",
       "      <td>1</td>\n",
       "    </tr>\n",
       "    <tr>\n",
       "      <th>1</th>\n",
       "      <td>2</td>\n",
       "      <td>15647311</td>\n",
       "      <td>Hill</td>\n",
       "      <td>608</td>\n",
       "      <td>Spain</td>\n",
       "      <td>Female</td>\n",
       "      <td>41</td>\n",
       "      <td>1</td>\n",
       "      <td>83807.86</td>\n",
       "      <td>1</td>\n",
       "      <td>0</td>\n",
       "      <td>1</td>\n",
       "      <td>112542.58</td>\n",
       "      <td>0</td>\n",
       "    </tr>\n",
       "    <tr>\n",
       "      <th>2</th>\n",
       "      <td>3</td>\n",
       "      <td>15619304</td>\n",
       "      <td>Onio</td>\n",
       "      <td>502</td>\n",
       "      <td>France</td>\n",
       "      <td>Female</td>\n",
       "      <td>42</td>\n",
       "      <td>8</td>\n",
       "      <td>159660.80</td>\n",
       "      <td>3</td>\n",
       "      <td>1</td>\n",
       "      <td>0</td>\n",
       "      <td>113931.57</td>\n",
       "      <td>1</td>\n",
       "    </tr>\n",
       "    <tr>\n",
       "      <th>3</th>\n",
       "      <td>4</td>\n",
       "      <td>15701354</td>\n",
       "      <td>Boni</td>\n",
       "      <td>699</td>\n",
       "      <td>France</td>\n",
       "      <td>Female</td>\n",
       "      <td>39</td>\n",
       "      <td>1</td>\n",
       "      <td>0.00</td>\n",
       "      <td>2</td>\n",
       "      <td>0</td>\n",
       "      <td>0</td>\n",
       "      <td>93826.63</td>\n",
       "      <td>0</td>\n",
       "    </tr>\n",
       "    <tr>\n",
       "      <th>4</th>\n",
       "      <td>5</td>\n",
       "      <td>15737888</td>\n",
       "      <td>Mitchell</td>\n",
       "      <td>850</td>\n",
       "      <td>Spain</td>\n",
       "      <td>Female</td>\n",
       "      <td>43</td>\n",
       "      <td>2</td>\n",
       "      <td>125510.82</td>\n",
       "      <td>1</td>\n",
       "      <td>1</td>\n",
       "      <td>1</td>\n",
       "      <td>79084.10</td>\n",
       "      <td>0</td>\n",
       "    </tr>\n",
       "  </tbody>\n",
       "</table>\n",
       "</div>"
      ],
      "text/plain": [
       "   RowNumber  CustomerId   Surname  CreditScore Geography  Gender  Age  \\\n",
       "0          1    15634602  Hargrave          619    France  Female   42   \n",
       "1          2    15647311      Hill          608     Spain  Female   41   \n",
       "2          3    15619304      Onio          502    France  Female   42   \n",
       "3          4    15701354      Boni          699    France  Female   39   \n",
       "4          5    15737888  Mitchell          850     Spain  Female   43   \n",
       "\n",
       "   Tenure    Balance  NumOfProducts  HasCrCard  IsActiveMember  \\\n",
       "0       2       0.00              1          1               1   \n",
       "1       1   83807.86              1          0               1   \n",
       "2       8  159660.80              3          1               0   \n",
       "3       1       0.00              2          0               0   \n",
       "4       2  125510.82              1          1               1   \n",
       "\n",
       "   EstimatedSalary  Exited  \n",
       "0        101348.88       1  \n",
       "1        112542.58       0  \n",
       "2        113931.57       1  \n",
       "3         93826.63       0  \n",
       "4         79084.10       0  "
      ]
     },
     "execution_count": 3,
     "metadata": {},
     "output_type": "execute_result"
    }
   ],
   "source": [
    "df.head()"
   ]
  },
  {
   "cell_type": "code",
   "execution_count": 4,
   "metadata": {},
   "outputs": [
    {
     "data": {
      "text/plain": [
       "(10000, 14)"
      ]
     },
     "execution_count": 4,
     "metadata": {},
     "output_type": "execute_result"
    }
   ],
   "source": [
    "df.shape"
   ]
  },
  {
   "cell_type": "code",
   "execution_count": 5,
   "metadata": {},
   "outputs": [
    {
     "data": {
      "text/plain": [
       "RowNumber            int64\n",
       "CustomerId           int64\n",
       "Surname             object\n",
       "CreditScore          int64\n",
       "Geography           object\n",
       "Gender              object\n",
       "Age                  int64\n",
       "Tenure               int64\n",
       "Balance            float64\n",
       "NumOfProducts        int64\n",
       "HasCrCard            int64\n",
       "IsActiveMember       int64\n",
       "EstimatedSalary    float64\n",
       "Exited               int64\n",
       "dtype: object"
      ]
     },
     "execution_count": 5,
     "metadata": {},
     "output_type": "execute_result"
    }
   ],
   "source": [
    "df.dtypes"
   ]
  },
  {
   "cell_type": "markdown",
   "metadata": {},
   "source": [
    "Checking duplicated rows:"
   ]
  },
  {
   "cell_type": "code",
   "execution_count": 6,
   "metadata": {},
   "outputs": [
    {
     "data": {
      "text/plain": [
       "0"
      ]
     },
     "execution_count": 6,
     "metadata": {},
     "output_type": "execute_result"
    }
   ],
   "source": [
    "len(df.loc[df.duplicated()])"
   ]
  },
  {
   "cell_type": "markdown",
   "metadata": {},
   "source": [
    "Checking whitespaces and missing values:"
   ]
  },
  {
   "cell_type": "code",
   "execution_count": 7,
   "metadata": {},
   "outputs": [],
   "source": [
    "for col in df.select_dtypes(include='object').columns.tolist():\n",
    "\n",
    "        if df.loc[df[col].apply(lambda x: x.isspace())].empty == False:\n",
    "                print(f'{col} has {len(df.loc[df[col].apply(lambda x: x.isspace())])} rows with only space characters. It will be replaced by NaN.')\n",
    "                df.loc[df[col].apply(lambda x: x.isspace()), col] = np.nan\n",
    "                df[col] = df[col].astype(float)"
   ]
  },
  {
   "cell_type": "code",
   "execution_count": 8,
   "metadata": {},
   "outputs": [
    {
     "data": {
      "text/plain": [
       "RowNumber          0\n",
       "CustomerId         0\n",
       "Surname            0\n",
       "CreditScore        0\n",
       "Geography          0\n",
       "Gender             0\n",
       "Age                0\n",
       "Tenure             0\n",
       "Balance            0\n",
       "NumOfProducts      0\n",
       "HasCrCard          0\n",
       "IsActiveMember     0\n",
       "EstimatedSalary    0\n",
       "Exited             0\n",
       "dtype: int64"
      ]
     },
     "execution_count": 8,
     "metadata": {},
     "output_type": "execute_result"
    }
   ],
   "source": [
    "df.isnull().sum()"
   ]
  },
  {
   "cell_type": "markdown",
   "metadata": {},
   "source": [
    "## Exploratory Data Analysis"
   ]
  },
  {
   "cell_type": "code",
   "execution_count": 9,
   "metadata": {},
   "outputs": [],
   "source": [
    "X = df.drop(['RowNumber','CustomerId','Surname','Exited'], axis=1)\n",
    "y = df['Exited']"
   ]
  },
  {
   "cell_type": "markdown",
   "metadata": {},
   "source": [
    "Create barplots for categorical features:"
   ]
  },
  {
   "cell_type": "code",
   "execution_count": 10,
   "metadata": {},
   "outputs": [
    {
     "data": {
      "image/png": "[encoded data removed]",
      "text/plain": [
       "<Figure size 900x900 with 5 Axes>"
      ]
     },
     "metadata": {},
     "output_type": "display_data"
    }
   ],
   "source": [
    "plot_categories(df, X.columns[X.nunique() < 10].tolist(), 'Exited')"
   ]
  },
  {
   "cell_type": "markdown",
   "metadata": {},
   "source": [
    "* Clients from Spain are less likely to leave the bank.\n",
    "* Less products can lead higher change of churn.\n",
    "* Having a credit card is a significant indicator of churn."
   ]
  },
  {
   "cell_type": "markdown",
   "metadata": {},
   "source": [
    "Create histograms for numerical features:"
   ]
  },
  {
   "cell_type": "code",
   "execution_count": 11,
   "metadata": {},
   "outputs": [
    {
     "data": {
      "image/png": "[encoded data removed]",
      "text/plain": [
       "<Figure size 900x900 with 5 Axes>"
      ]
     },
     "metadata": {},
     "output_type": "display_data"
    }
   ],
   "source": [
    "plot_histograms(df, X.columns[X.nunique() >= 10].tolist(), 'Exited')"
   ]
  },
  {
   "cell_type": "markdown",
   "metadata": {},
   "source": [
    "* Distribution of age is significantly different for exited and non-exited population. Exited clients are older (40-50 years old) than non-exited clients (35-40 years old)."
   ]
  },
  {
   "cell_type": "markdown",
   "metadata": {},
   "source": [
    "## Feature engineering"
   ]
  },
  {
   "cell_type": "markdown",
   "metadata": {},
   "source": [
    "Create some new features from the existing ones:"
   ]
  },
  {
   "cell_type": "code",
   "execution_count": 12,
   "metadata": {},
   "outputs": [],
   "source": [
    "X['HasJustCreditCard'] = np.where((X['NumOfProducts'] == 1) & (X['HasCrCard'] == 1), 1, 0)\n",
    "X['BalanceDivByEstSalary'] = X['Balance'] / X['EstimatedSalary']\n",
    "X['ActiveScore'] = X['IsActiveMember'] * X['CreditScore']"
   ]
  },
  {
   "cell_type": "markdown",
   "metadata": {},
   "source": [
    "### Create dummy features"
   ]
  },
  {
   "cell_type": "code",
   "execution_count": 13,
   "metadata": {},
   "outputs": [],
   "source": [
    "dummy = OneHotEncoder(drop='first')\n",
    "\n",
    "numerical_features = X.select_dtypes(exclude='object').columns.tolist()\n",
    "categorical_features = X.select_dtypes(include='object').columns.tolist()"
   ]
  },
  {
   "cell_type": "code",
   "execution_count": 14,
   "metadata": {},
   "outputs": [
    {
     "data": {
      "text/plain": [
       "3"
      ]
     },
     "execution_count": 14,
     "metadata": {},
     "output_type": "execute_result"
    }
   ],
   "source": [
    "pd.DataFrame(dummy.fit_transform(X[categorical_features]).toarray(),\n",
    "             columns=dummy.get_feature_names_out(), index=X.index).shape[1]"
   ]
  },
  {
   "cell_type": "code",
   "execution_count": 15,
   "metadata": {},
   "outputs": [],
   "source": [
    "X = pd.concat([X, pd.DataFrame(dummy.fit_transform(X[categorical_features]).toarray(),\n",
    "             columns=dummy.get_feature_names_out(), index=X.index)], axis=1).copy()\n",
    "\n",
    "dummy_features = X.columns.tolist()[-3:]"
   ]
  },
  {
   "cell_type": "markdown",
   "metadata": {},
   "source": [
    "### Train-test splitting"
   ]
  },
  {
   "cell_type": "code",
   "execution_count": 16,
   "metadata": {},
   "outputs": [
    {
     "name": "stdout",
     "output_type": "stream",
     "text": [
      "Number of observations in train sample: 8000\n",
      "Churn rate in train sample: 0.2037\n",
      "Number of observations in test sample: 2000\n",
      "Churn rate in test sample: 0.2037\n"
     ]
    }
   ],
   "source": [
    "X_train, X_test, y_train, y_test = train_test_split(X, y, stratify=y, test_size=0.2, random_state=42)\n",
    "\n",
    "print(f'Number of observations in train sample: {X_train.shape[0]}')\n",
    "print(f'Churn rate in train sample: {round(y_train.mean(),4)}')\n",
    "print(f'Number of observations in test sample: {X_test.shape[0]}')\n",
    "print(f'Churn rate in test sample: {round(y_train.mean(),4)}')"
   ]
  },
  {
   "cell_type": "markdown",
   "metadata": {},
   "source": [
    "### Create Weight of Evidence-transformed features"
   ]
  },
  {
   "cell_type": "markdown",
   "metadata": {},
   "source": [
    "The weight of evidence shows the predictive power of a feature in connection with the target.<br/>\n",
    "In credit risk modelling it is a measure of the separation of defaulted and non-defaulted clients."
   ]
  },
  {
   "cell_type": "markdown",
   "metadata": {},
   "source": [
    "**Fine classing** is the first step where the goal is to create equally-sized bins for numerical features, if it is possible.<br/>\n",
    "Here 10 bins will be created for all of the features.<br/>\n",
    "(Dummy features are not used in this transformation, because categorical features will be handled by using weight of evidences of the original categories.)"
   ]
  },
  {
   "cell_type": "markdown",
   "metadata": {},
   "source": [
    "*Each step will be stored in the X_train_tmp object after applying transform methods.*"
   ]
  },
  {
   "cell_type": "code",
   "execution_count": 17,
   "metadata": {},
   "outputs": [
    {
     "data": {
      "text/html": [
       "<div>\n",
       "<style scoped>\n",
       "    .dataframe tbody tr th:only-of-type {\n",
       "        vertical-align: middle;\n",
       "    }\n",
       "\n",
       "    .dataframe tbody tr th {\n",
       "        vertical-align: top;\n",
       "    }\n",
       "\n",
       "    .dataframe thead th {\n",
       "        text-align: right;\n",
       "    }\n",
       "</style>\n",
       "<table border=\"1\" class=\"dataframe\">\n",
       "  <thead>\n",
       "    <tr style=\"text-align: right;\">\n",
       "      <th></th>\n",
       "      <th>CreditScore</th>\n",
       "      <th>Geography</th>\n",
       "      <th>Gender</th>\n",
       "      <th>Age</th>\n",
       "      <th>Tenure</th>\n",
       "      <th>Balance</th>\n",
       "      <th>NumOfProducts</th>\n",
       "      <th>HasCrCard</th>\n",
       "      <th>IsActiveMember</th>\n",
       "      <th>EstimatedSalary</th>\n",
       "      <th>HasJustCreditCard</th>\n",
       "      <th>BalanceDivByEstSalary</th>\n",
       "      <th>ActiveScore</th>\n",
       "      <th>Geography_Germany</th>\n",
       "      <th>Geography_Spain</th>\n",
       "      <th>Gender_Male</th>\n",
       "    </tr>\n",
       "  </thead>\n",
       "  <tbody>\n",
       "    <tr>\n",
       "      <th>2151</th>\n",
       "      <td>8</td>\n",
       "      <td>2</td>\n",
       "      <td>1</td>\n",
       "      <td>9</td>\n",
       "      <td>7</td>\n",
       "      <td>0</td>\n",
       "      <td>0</td>\n",
       "      <td>1</td>\n",
       "      <td>0</td>\n",
       "      <td>8</td>\n",
       "      <td>1</td>\n",
       "      <td>0</td>\n",
       "      <td>0</td>\n",
       "      <td>-1</td>\n",
       "      <td>-1</td>\n",
       "      <td>-1</td>\n",
       "    </tr>\n",
       "    <tr>\n",
       "      <th>8392</th>\n",
       "      <td>8</td>\n",
       "      <td>0</td>\n",
       "      <td>1</td>\n",
       "      <td>2</td>\n",
       "      <td>3</td>\n",
       "      <td>2</td>\n",
       "      <td>0</td>\n",
       "      <td>1</td>\n",
       "      <td>0</td>\n",
       "      <td>3</td>\n",
       "      <td>1</td>\n",
       "      <td>4</td>\n",
       "      <td>0</td>\n",
       "      <td>-1</td>\n",
       "      <td>-1</td>\n",
       "      <td>-1</td>\n",
       "    </tr>\n",
       "    <tr>\n",
       "      <th>5006</th>\n",
       "      <td>8</td>\n",
       "      <td>0</td>\n",
       "      <td>0</td>\n",
       "      <td>4</td>\n",
       "      <td>0</td>\n",
       "      <td>3</td>\n",
       "      <td>1</td>\n",
       "      <td>1</td>\n",
       "      <td>1</td>\n",
       "      <td>5</td>\n",
       "      <td>0</td>\n",
       "      <td>3</td>\n",
       "      <td>5</td>\n",
       "      <td>-1</td>\n",
       "      <td>-1</td>\n",
       "      <td>-1</td>\n",
       "    </tr>\n",
       "    <tr>\n",
       "      <th>4117</th>\n",
       "      <td>1</td>\n",
       "      <td>2</td>\n",
       "      <td>1</td>\n",
       "      <td>4</td>\n",
       "      <td>5</td>\n",
       "      <td>0</td>\n",
       "      <td>1</td>\n",
       "      <td>1</td>\n",
       "      <td>0</td>\n",
       "      <td>4</td>\n",
       "      <td>0</td>\n",
       "      <td>0</td>\n",
       "      <td>0</td>\n",
       "      <td>-1</td>\n",
       "      <td>-1</td>\n",
       "      <td>-1</td>\n",
       "    </tr>\n",
       "    <tr>\n",
       "      <th>7182</th>\n",
       "      <td>6</td>\n",
       "      <td>0</td>\n",
       "      <td>1</td>\n",
       "      <td>8</td>\n",
       "      <td>6</td>\n",
       "      <td>3</td>\n",
       "      <td>1</td>\n",
       "      <td>0</td>\n",
       "      <td>1</td>\n",
       "      <td>5</td>\n",
       "      <td>0</td>\n",
       "      <td>3</td>\n",
       "      <td>4</td>\n",
       "      <td>-1</td>\n",
       "      <td>-1</td>\n",
       "      <td>-1</td>\n",
       "    </tr>\n",
       "  </tbody>\n",
       "</table>\n",
       "</div>"
      ],
      "text/plain": [
       "      CreditScore  Geography  Gender  Age  Tenure  Balance  NumOfProducts  \\\n",
       "2151            8          2       1    9       7        0              0   \n",
       "8392            8          0       1    2       3        2              0   \n",
       "5006            8          0       0    4       0        3              1   \n",
       "4117            1          2       1    4       5        0              1   \n",
       "7182            6          0       1    8       6        3              1   \n",
       "\n",
       "      HasCrCard  IsActiveMember  EstimatedSalary  HasJustCreditCard  \\\n",
       "2151          1               0                8                  1   \n",
       "8392          1               0                3                  1   \n",
       "5006          1               1                5                  0   \n",
       "4117          1               0                4                  0   \n",
       "7182          0               1                5                  0   \n",
       "\n",
       "      BalanceDivByEstSalary  ActiveScore  Geography_Germany  Geography_Spain  \\\n",
       "2151                      0            0                 -1               -1   \n",
       "8392                      4            0                 -1               -1   \n",
       "5006                      3            5                 -1               -1   \n",
       "4117                      0            0                 -1               -1   \n",
       "7182                      3            4                 -1               -1   \n",
       "\n",
       "      Gender_Male  \n",
       "2151           -1  \n",
       "8392           -1  \n",
       "5006           -1  \n",
       "4117           -1  \n",
       "7182           -1  "
      ]
     },
     "execution_count": 17,
     "metadata": {},
     "output_type": "execute_result"
    }
   ],
   "source": [
    "fine_classing = FineClassing()\n",
    "\n",
    "fine_classing.fit(X_train[numerical_features+categorical_features], y_train)\n",
    "X_train_tmp = fine_classing.transform(X_train)\n",
    "X_train_tmp.head()\n"
   ]
  },
  {
   "cell_type": "markdown",
   "metadata": {},
   "source": [
    "Keep only those features where the Information Value is greater than 0.05:"
   ]
  },
  {
   "cell_type": "code",
   "execution_count": 18,
   "metadata": {},
   "outputs": [
    {
     "data": {
      "text/html": [
       "<div>\n",
       "<style scoped>\n",
       "    .dataframe tbody tr th:only-of-type {\n",
       "        vertical-align: middle;\n",
       "    }\n",
       "\n",
       "    .dataframe tbody tr th {\n",
       "        vertical-align: top;\n",
       "    }\n",
       "\n",
       "    .dataframe thead th {\n",
       "        text-align: right;\n",
       "    }\n",
       "</style>\n",
       "<table border=\"1\" class=\"dataframe\">\n",
       "  <thead>\n",
       "    <tr style=\"text-align: right;\">\n",
       "      <th></th>\n",
       "      <th>feature_name</th>\n",
       "      <th>iv</th>\n",
       "      <th>gini</th>\n",
       "    </tr>\n",
       "  </thead>\n",
       "  <tbody>\n",
       "    <tr>\n",
       "      <th>4</th>\n",
       "      <td>NumOfProducts</td>\n",
       "      <td>1.32789</td>\n",
       "      <td>0.167217</td>\n",
       "    </tr>\n",
       "    <tr>\n",
       "      <th>1</th>\n",
       "      <td>Age</td>\n",
       "      <td>0.76643</td>\n",
       "      <td>0.456947</td>\n",
       "    </tr>\n",
       "    <tr>\n",
       "      <th>11</th>\n",
       "      <td>Geography</td>\n",
       "      <td>0.18536</td>\n",
       "      <td>0.201313</td>\n",
       "    </tr>\n",
       "    <tr>\n",
       "      <th>6</th>\n",
       "      <td>IsActiveMember</td>\n",
       "      <td>0.14560</td>\n",
       "      <td>0.188958</td>\n",
       "    </tr>\n",
       "    <tr>\n",
       "      <th>10</th>\n",
       "      <td>ActiveScore</td>\n",
       "      <td>0.14462</td>\n",
       "      <td>0.194684</td>\n",
       "    </tr>\n",
       "    <tr>\n",
       "      <th>3</th>\n",
       "      <td>Balance</td>\n",
       "      <td>0.10670</td>\n",
       "      <td>0.146315</td>\n",
       "    </tr>\n",
       "    <tr>\n",
       "      <th>8</th>\n",
       "      <td>HasJustCreditCard</td>\n",
       "      <td>0.10477</td>\n",
       "      <td>0.158132</td>\n",
       "    </tr>\n",
       "    <tr>\n",
       "      <th>9</th>\n",
       "      <td>BalanceDivByEstSalary</td>\n",
       "      <td>0.09491</td>\n",
       "      <td>0.139226</td>\n",
       "    </tr>\n",
       "    <tr>\n",
       "      <th>12</th>\n",
       "      <td>Gender</td>\n",
       "      <td>0.06892</td>\n",
       "      <td>0.130867</td>\n",
       "    </tr>\n",
       "    <tr>\n",
       "      <th>0</th>\n",
       "      <td>CreditScore</td>\n",
       "      <td>0.01478</td>\n",
       "      <td>0.040761</td>\n",
       "    </tr>\n",
       "    <tr>\n",
       "      <th>2</th>\n",
       "      <td>Tenure</td>\n",
       "      <td>0.00898</td>\n",
       "      <td>0.003396</td>\n",
       "    </tr>\n",
       "    <tr>\n",
       "      <th>7</th>\n",
       "      <td>EstimatedSalary</td>\n",
       "      <td>0.00617</td>\n",
       "      <td>0.032514</td>\n",
       "    </tr>\n",
       "    <tr>\n",
       "      <th>5</th>\n",
       "      <td>HasCrCard</td>\n",
       "      <td>0.00129</td>\n",
       "      <td>0.016382</td>\n",
       "    </tr>\n",
       "  </tbody>\n",
       "</table>\n",
       "</div>"
      ],
      "text/plain": [
       "             feature_name       iv      gini\n",
       "4           NumOfProducts  1.32789  0.167217\n",
       "1                     Age  0.76643  0.456947\n",
       "11              Geography  0.18536  0.201313\n",
       "6          IsActiveMember  0.14560  0.188958\n",
       "10            ActiveScore  0.14462  0.194684\n",
       "3                 Balance  0.10670  0.146315\n",
       "8       HasJustCreditCard  0.10477  0.158132\n",
       "9   BalanceDivByEstSalary  0.09491  0.139226\n",
       "12                 Gender  0.06892  0.130867\n",
       "0             CreditScore  0.01478  0.040761\n",
       "2                  Tenure  0.00898  0.003396\n",
       "7         EstimatedSalary  0.00617  0.032514\n",
       "5               HasCrCard  0.00129  0.016382"
      ]
     },
     "execution_count": 18,
     "metadata": {},
     "output_type": "execute_result"
    }
   ],
   "source": [
    "fine_classing.fine_iv_gini.sort_values(by='iv', ascending=False)"
   ]
  },
  {
   "cell_type": "code",
   "execution_count": 19,
   "metadata": {},
   "outputs": [
    {
     "data": {
      "text/html": [
       "<div>\n",
       "<style scoped>\n",
       "    .dataframe tbody tr th:only-of-type {\n",
       "        vertical-align: middle;\n",
       "    }\n",
       "\n",
       "    .dataframe tbody tr th {\n",
       "        vertical-align: top;\n",
       "    }\n",
       "\n",
       "    .dataframe thead th {\n",
       "        text-align: right;\n",
       "    }\n",
       "</style>\n",
       "<table border=\"1\" class=\"dataframe\">\n",
       "  <thead>\n",
       "    <tr style=\"text-align: right;\">\n",
       "      <th></th>\n",
       "      <th>Geography</th>\n",
       "      <th>Gender</th>\n",
       "      <th>Age</th>\n",
       "      <th>Balance</th>\n",
       "      <th>NumOfProducts</th>\n",
       "      <th>IsActiveMember</th>\n",
       "      <th>HasJustCreditCard</th>\n",
       "      <th>BalanceDivByEstSalary</th>\n",
       "      <th>ActiveScore</th>\n",
       "    </tr>\n",
       "  </thead>\n",
       "  <tbody>\n",
       "    <tr>\n",
       "      <th>2151</th>\n",
       "      <td>2</td>\n",
       "      <td>1</td>\n",
       "      <td>9</td>\n",
       "      <td>0</td>\n",
       "      <td>0</td>\n",
       "      <td>0</td>\n",
       "      <td>1</td>\n",
       "      <td>0</td>\n",
       "      <td>0</td>\n",
       "    </tr>\n",
       "    <tr>\n",
       "      <th>8392</th>\n",
       "      <td>0</td>\n",
       "      <td>1</td>\n",
       "      <td>2</td>\n",
       "      <td>2</td>\n",
       "      <td>0</td>\n",
       "      <td>0</td>\n",
       "      <td>1</td>\n",
       "      <td>4</td>\n",
       "      <td>0</td>\n",
       "    </tr>\n",
       "    <tr>\n",
       "      <th>5006</th>\n",
       "      <td>0</td>\n",
       "      <td>0</td>\n",
       "      <td>4</td>\n",
       "      <td>3</td>\n",
       "      <td>1</td>\n",
       "      <td>1</td>\n",
       "      <td>0</td>\n",
       "      <td>3</td>\n",
       "      <td>5</td>\n",
       "    </tr>\n",
       "    <tr>\n",
       "      <th>4117</th>\n",
       "      <td>2</td>\n",
       "      <td>1</td>\n",
       "      <td>4</td>\n",
       "      <td>0</td>\n",
       "      <td>1</td>\n",
       "      <td>0</td>\n",
       "      <td>0</td>\n",
       "      <td>0</td>\n",
       "      <td>0</td>\n",
       "    </tr>\n",
       "    <tr>\n",
       "      <th>7182</th>\n",
       "      <td>0</td>\n",
       "      <td>1</td>\n",
       "      <td>8</td>\n",
       "      <td>3</td>\n",
       "      <td>1</td>\n",
       "      <td>1</td>\n",
       "      <td>0</td>\n",
       "      <td>3</td>\n",
       "      <td>4</td>\n",
       "    </tr>\n",
       "  </tbody>\n",
       "</table>\n",
       "</div>"
      ],
      "text/plain": [
       "      Geography  Gender  Age  Balance  NumOfProducts  IsActiveMember  \\\n",
       "2151          2       1    9        0              0               0   \n",
       "8392          0       1    2        2              0               0   \n",
       "5006          0       0    4        3              1               1   \n",
       "4117          2       1    4        0              1               0   \n",
       "7182          0       1    8        3              1               1   \n",
       "\n",
       "      HasJustCreditCard  BalanceDivByEstSalary  ActiveScore  \n",
       "2151                  1                      0            0  \n",
       "8392                  1                      4            0  \n",
       "5006                  0                      3            5  \n",
       "4117                  0                      0            0  \n",
       "7182                  0                      3            4  "
      ]
     },
     "execution_count": 19,
     "metadata": {},
     "output_type": "execute_result"
    }
   ],
   "source": [
    "filter_by_iv = FilterByInformationValue(iv_threshold=0.05)\n",
    "\n",
    "filter_by_iv.fit(X_train_tmp, y_train)\n",
    "X_train_tmp = filter_by_iv.transform(X_train_tmp)\n",
    "X_train_tmp.head()"
   ]
  },
  {
   "cell_type": "markdown",
   "metadata": {},
   "source": [
    "**Coarse classing** is the next step of the process where the goal is to merge adjacent bins of the previously created categorical features.\n",
    "\n",
    "The maximum number of groups could be 5, but the algorithm is choosing the best version for all features; highest information value where the order of the bins should be monotonous. Then the group labels will be replaced to the corresponding weight of evidence values."
   ]
  },
  {
   "cell_type": "code",
   "execution_count": 20,
   "metadata": {},
   "outputs": [
    {
     "data": {
      "text/html": [
       "<div>\n",
       "<style scoped>\n",
       "    .dataframe tbody tr th:only-of-type {\n",
       "        vertical-align: middle;\n",
       "    }\n",
       "\n",
       "    .dataframe tbody tr th {\n",
       "        vertical-align: top;\n",
       "    }\n",
       "\n",
       "    .dataframe thead th {\n",
       "        text-align: right;\n",
       "    }\n",
       "</style>\n",
       "<table border=\"1\" class=\"dataframe\">\n",
       "  <thead>\n",
       "    <tr style=\"text-align: right;\">\n",
       "      <th></th>\n",
       "      <th>Geography</th>\n",
       "      <th>Gender</th>\n",
       "      <th>Age</th>\n",
       "      <th>Balance</th>\n",
       "      <th>NumOfProducts</th>\n",
       "      <th>IsActiveMember</th>\n",
       "      <th>HasJustCreditCard</th>\n",
       "      <th>BalanceDivByEstSalary</th>\n",
       "      <th>ActiveScore</th>\n",
       "    </tr>\n",
       "  </thead>\n",
       "  <tbody>\n",
       "    <tr>\n",
       "      <th>2151</th>\n",
       "      <td>0.30246</td>\n",
       "      <td>0.25823</td>\n",
       "      <td>-1.02864</td>\n",
       "      <td>0.41387</td>\n",
       "      <td>-0.41749</td>\n",
       "      <td>-0.35282</td>\n",
       "      <td>-0.39493</td>\n",
       "      <td>0.40846</td>\n",
       "      <td>-0.33516</td>\n",
       "    </tr>\n",
       "    <tr>\n",
       "      <th>8392</th>\n",
       "      <td>-0.65788</td>\n",
       "      <td>0.25823</td>\n",
       "      <td>0.96086</td>\n",
       "      <td>-0.26707</td>\n",
       "      <td>-0.41749</td>\n",
       "      <td>-0.35282</td>\n",
       "      <td>-0.39493</td>\n",
       "      <td>-0.22486</td>\n",
       "      <td>-0.33516</td>\n",
       "    </tr>\n",
       "    <tr>\n",
       "      <th>5006</th>\n",
       "      <td>-0.65788</td>\n",
       "      <td>-0.26846</td>\n",
       "      <td>0.73616</td>\n",
       "      <td>-0.26707</td>\n",
       "      <td>0.58318</td>\n",
       "      <td>0.41774</td>\n",
       "      <td>0.26762</td>\n",
       "      <td>-0.22486</td>\n",
       "      <td>0.53192</td>\n",
       "    </tr>\n",
       "    <tr>\n",
       "      <th>4117</th>\n",
       "      <td>0.30246</td>\n",
       "      <td>0.25823</td>\n",
       "      <td>0.73616</td>\n",
       "      <td>0.41387</td>\n",
       "      <td>0.58318</td>\n",
       "      <td>-0.35282</td>\n",
       "      <td>0.26762</td>\n",
       "      <td>0.40846</td>\n",
       "      <td>-0.33516</td>\n",
       "    </tr>\n",
       "    <tr>\n",
       "      <th>7182</th>\n",
       "      <td>-0.65788</td>\n",
       "      <td>0.25823</td>\n",
       "      <td>-1.02864</td>\n",
       "      <td>-0.26707</td>\n",
       "      <td>0.58318</td>\n",
       "      <td>0.41774</td>\n",
       "      <td>0.26762</td>\n",
       "      <td>-0.22486</td>\n",
       "      <td>0.53192</td>\n",
       "    </tr>\n",
       "  </tbody>\n",
       "</table>\n",
       "</div>"
      ],
      "text/plain": [
       "      Geography   Gender      Age  Balance  NumOfProducts  IsActiveMember  \\\n",
       "2151    0.30246  0.25823 -1.02864  0.41387       -0.41749        -0.35282   \n",
       "8392   -0.65788  0.25823  0.96086 -0.26707       -0.41749        -0.35282   \n",
       "5006   -0.65788 -0.26846  0.73616 -0.26707        0.58318         0.41774   \n",
       "4117    0.30246  0.25823  0.73616  0.41387        0.58318        -0.35282   \n",
       "7182   -0.65788  0.25823 -1.02864 -0.26707        0.58318         0.41774   \n",
       "\n",
       "      HasJustCreditCard  BalanceDivByEstSalary  ActiveScore  \n",
       "2151           -0.39493                0.40846     -0.33516  \n",
       "8392           -0.39493               -0.22486     -0.33516  \n",
       "5006            0.26762               -0.22486      0.53192  \n",
       "4117            0.26762                0.40846     -0.33516  \n",
       "7182            0.26762               -0.22486      0.53192  "
      ]
     },
     "execution_count": 20,
     "metadata": {},
     "output_type": "execute_result"
    }
   ],
   "source": [
    "coarse_classing = CoarseClassing()\n",
    "\n",
    "coarse_classing.fit(X_train_tmp, y_train)\n",
    "X_train_tmp = coarse_classing.transform(X_train_tmp)\n",
    "X_train_tmp.head()"
   ]
  },
  {
   "cell_type": "markdown",
   "metadata": {},
   "source": [
    "Keep only those features where the Information Value is greater than 0.05:"
   ]
  },
  {
   "cell_type": "code",
   "execution_count": 21,
   "metadata": {},
   "outputs": [
    {
     "data": {
      "text/html": [
       "<div>\n",
       "<style scoped>\n",
       "    .dataframe tbody tr th:only-of-type {\n",
       "        vertical-align: middle;\n",
       "    }\n",
       "\n",
       "    .dataframe tbody tr th {\n",
       "        vertical-align: top;\n",
       "    }\n",
       "\n",
       "    .dataframe thead th {\n",
       "        text-align: right;\n",
       "    }\n",
       "</style>\n",
       "<table border=\"1\" class=\"dataframe\">\n",
       "  <thead>\n",
       "    <tr style=\"text-align: right;\">\n",
       "      <th></th>\n",
       "      <th>feature_name</th>\n",
       "      <th>iv</th>\n",
       "      <th>gini</th>\n",
       "    </tr>\n",
       "  </thead>\n",
       "  <tbody>\n",
       "    <tr>\n",
       "      <th>2</th>\n",
       "      <td>Age</td>\n",
       "      <td>0.72481</td>\n",
       "      <td>0.446133</td>\n",
       "    </tr>\n",
       "    <tr>\n",
       "      <th>4</th>\n",
       "      <td>NumOfProducts</td>\n",
       "      <td>0.23865</td>\n",
       "      <td>0.238490</td>\n",
       "    </tr>\n",
       "    <tr>\n",
       "      <th>0</th>\n",
       "      <td>Geography</td>\n",
       "      <td>0.18536</td>\n",
       "      <td>0.201313</td>\n",
       "    </tr>\n",
       "    <tr>\n",
       "      <th>5</th>\n",
       "      <td>IsActiveMember</td>\n",
       "      <td>0.14560</td>\n",
       "      <td>0.188958</td>\n",
       "    </tr>\n",
       "    <tr>\n",
       "      <th>8</th>\n",
       "      <td>ActiveScore</td>\n",
       "      <td>0.14447</td>\n",
       "      <td>0.195211</td>\n",
       "    </tr>\n",
       "    <tr>\n",
       "      <th>6</th>\n",
       "      <td>HasJustCreditCard</td>\n",
       "      <td>0.10477</td>\n",
       "      <td>0.158132</td>\n",
       "    </tr>\n",
       "    <tr>\n",
       "      <th>3</th>\n",
       "      <td>Balance</td>\n",
       "      <td>0.09877</td>\n",
       "      <td>0.159259</td>\n",
       "    </tr>\n",
       "    <tr>\n",
       "      <th>7</th>\n",
       "      <td>BalanceDivByEstSalary</td>\n",
       "      <td>0.09115</td>\n",
       "      <td>0.143923</td>\n",
       "    </tr>\n",
       "    <tr>\n",
       "      <th>1</th>\n",
       "      <td>Gender</td>\n",
       "      <td>0.06892</td>\n",
       "      <td>0.130867</td>\n",
       "    </tr>\n",
       "  </tbody>\n",
       "</table>\n",
       "</div>"
      ],
      "text/plain": [
       "            feature_name       iv      gini\n",
       "2                    Age  0.72481  0.446133\n",
       "4          NumOfProducts  0.23865  0.238490\n",
       "0              Geography  0.18536  0.201313\n",
       "5         IsActiveMember  0.14560  0.188958\n",
       "8            ActiveScore  0.14447  0.195211\n",
       "6      HasJustCreditCard  0.10477  0.158132\n",
       "3                Balance  0.09877  0.159259\n",
       "7  BalanceDivByEstSalary  0.09115  0.143923\n",
       "1                 Gender  0.06892  0.130867"
      ]
     },
     "execution_count": 21,
     "metadata": {},
     "output_type": "execute_result"
    }
   ],
   "source": [
    "coarse_classing.coarse_iv_gini.sort_values(by='iv', ascending=False)"
   ]
  },
  {
   "cell_type": "code",
   "execution_count": 22,
   "metadata": {},
   "outputs": [
    {
     "data": {
      "text/html": [
       "<div>\n",
       "<style scoped>\n",
       "    .dataframe tbody tr th:only-of-type {\n",
       "        vertical-align: middle;\n",
       "    }\n",
       "\n",
       "    .dataframe tbody tr th {\n",
       "        vertical-align: top;\n",
       "    }\n",
       "\n",
       "    .dataframe thead th {\n",
       "        text-align: right;\n",
       "    }\n",
       "</style>\n",
       "<table border=\"1\" class=\"dataframe\">\n",
       "  <thead>\n",
       "    <tr style=\"text-align: right;\">\n",
       "      <th></th>\n",
       "      <th>Geography</th>\n",
       "      <th>Gender</th>\n",
       "      <th>Age</th>\n",
       "      <th>Balance</th>\n",
       "      <th>NumOfProducts</th>\n",
       "      <th>IsActiveMember</th>\n",
       "      <th>HasJustCreditCard</th>\n",
       "      <th>BalanceDivByEstSalary</th>\n",
       "      <th>ActiveScore</th>\n",
       "    </tr>\n",
       "  </thead>\n",
       "  <tbody>\n",
       "    <tr>\n",
       "      <th>2151</th>\n",
       "      <td>0.30246</td>\n",
       "      <td>0.25823</td>\n",
       "      <td>-1.02864</td>\n",
       "      <td>0.41387</td>\n",
       "      <td>-0.41749</td>\n",
       "      <td>-0.35282</td>\n",
       "      <td>-0.39493</td>\n",
       "      <td>0.40846</td>\n",
       "      <td>-0.33516</td>\n",
       "    </tr>\n",
       "    <tr>\n",
       "      <th>8392</th>\n",
       "      <td>-0.65788</td>\n",
       "      <td>0.25823</td>\n",
       "      <td>0.96086</td>\n",
       "      <td>-0.26707</td>\n",
       "      <td>-0.41749</td>\n",
       "      <td>-0.35282</td>\n",
       "      <td>-0.39493</td>\n",
       "      <td>-0.22486</td>\n",
       "      <td>-0.33516</td>\n",
       "    </tr>\n",
       "    <tr>\n",
       "      <th>5006</th>\n",
       "      <td>-0.65788</td>\n",
       "      <td>-0.26846</td>\n",
       "      <td>0.73616</td>\n",
       "      <td>-0.26707</td>\n",
       "      <td>0.58318</td>\n",
       "      <td>0.41774</td>\n",
       "      <td>0.26762</td>\n",
       "      <td>-0.22486</td>\n",
       "      <td>0.53192</td>\n",
       "    </tr>\n",
       "    <tr>\n",
       "      <th>4117</th>\n",
       "      <td>0.30246</td>\n",
       "      <td>0.25823</td>\n",
       "      <td>0.73616</td>\n",
       "      <td>0.41387</td>\n",
       "      <td>0.58318</td>\n",
       "      <td>-0.35282</td>\n",
       "      <td>0.26762</td>\n",
       "      <td>0.40846</td>\n",
       "      <td>-0.33516</td>\n",
       "    </tr>\n",
       "    <tr>\n",
       "      <th>7182</th>\n",
       "      <td>-0.65788</td>\n",
       "      <td>0.25823</td>\n",
       "      <td>-1.02864</td>\n",
       "      <td>-0.26707</td>\n",
       "      <td>0.58318</td>\n",
       "      <td>0.41774</td>\n",
       "      <td>0.26762</td>\n",
       "      <td>-0.22486</td>\n",
       "      <td>0.53192</td>\n",
       "    </tr>\n",
       "  </tbody>\n",
       "</table>\n",
       "</div>"
      ],
      "text/plain": [
       "      Geography   Gender      Age  Balance  NumOfProducts  IsActiveMember  \\\n",
       "2151    0.30246  0.25823 -1.02864  0.41387       -0.41749        -0.35282   \n",
       "8392   -0.65788  0.25823  0.96086 -0.26707       -0.41749        -0.35282   \n",
       "5006   -0.65788 -0.26846  0.73616 -0.26707        0.58318         0.41774   \n",
       "4117    0.30246  0.25823  0.73616  0.41387        0.58318        -0.35282   \n",
       "7182   -0.65788  0.25823 -1.02864 -0.26707        0.58318         0.41774   \n",
       "\n",
       "      HasJustCreditCard  BalanceDivByEstSalary  ActiveScore  \n",
       "2151           -0.39493                0.40846     -0.33516  \n",
       "8392           -0.39493               -0.22486     -0.33516  \n",
       "5006            0.26762               -0.22486      0.53192  \n",
       "4117            0.26762                0.40846     -0.33516  \n",
       "7182            0.26762               -0.22486      0.53192  "
      ]
     },
     "execution_count": 22,
     "metadata": {},
     "output_type": "execute_result"
    }
   ],
   "source": [
    "filter_by_iv = FilterByInformationValue(iv_threshold=0.05)\n",
    "\n",
    "filter_by_iv.fit(X_train_tmp, y_train)\n",
    "X_train_tmp = filter_by_iv.transform(X_train_tmp)\n",
    "X_train_tmp.head()"
   ]
  },
  {
   "cell_type": "markdown",
   "metadata": {},
   "source": [
    "Analyzing spearman correlation of weight of evidence-transformed features and filter out those features from highly correlated pairs (higher than 0.5) who have lower information value:"
   ]
  },
  {
   "cell_type": "code",
   "execution_count": 23,
   "metadata": {},
   "outputs": [
    {
     "data": {
      "text/html": [
       "<div>\n",
       "<style scoped>\n",
       "    .dataframe tbody tr th:only-of-type {\n",
       "        vertical-align: middle;\n",
       "    }\n",
       "\n",
       "    .dataframe tbody tr th {\n",
       "        vertical-align: top;\n",
       "    }\n",
       "\n",
       "    .dataframe thead th {\n",
       "        text-align: right;\n",
       "    }\n",
       "</style>\n",
       "<table border=\"1\" class=\"dataframe\">\n",
       "  <thead>\n",
       "    <tr style=\"text-align: right;\">\n",
       "      <th></th>\n",
       "      <th>Geography</th>\n",
       "      <th>Gender</th>\n",
       "      <th>Age</th>\n",
       "      <th>Balance</th>\n",
       "      <th>NumOfProducts</th>\n",
       "      <th>IsActiveMember</th>\n",
       "    </tr>\n",
       "  </thead>\n",
       "  <tbody>\n",
       "    <tr>\n",
       "      <th>Geography</th>\n",
       "      <td>1.000000</td>\n",
       "      <td>0.017768</td>\n",
       "      <td>0.056581</td>\n",
       "      <td>0.333547</td>\n",
       "      <td>0.029265</td>\n",
       "      <td>0.011326</td>\n",
       "    </tr>\n",
       "    <tr>\n",
       "      <th>Gender</th>\n",
       "      <td>0.017768</td>\n",
       "      <td>1.000000</td>\n",
       "      <td>0.029178</td>\n",
       "      <td>-0.005269</td>\n",
       "      <td>0.002228</td>\n",
       "      <td>0.028267</td>\n",
       "    </tr>\n",
       "    <tr>\n",
       "      <th>Age</th>\n",
       "      <td>0.056581</td>\n",
       "      <td>0.029178</td>\n",
       "      <td>1.000000</td>\n",
       "      <td>0.033837</td>\n",
       "      <td>0.080775</td>\n",
       "      <td>-0.020947</td>\n",
       "    </tr>\n",
       "    <tr>\n",
       "      <th>Balance</th>\n",
       "      <td>0.333547</td>\n",
       "      <td>-0.005269</td>\n",
       "      <td>0.033837</td>\n",
       "      <td>1.000000</td>\n",
       "      <td>0.349111</td>\n",
       "      <td>0.009145</td>\n",
       "    </tr>\n",
       "    <tr>\n",
       "      <th>NumOfProducts</th>\n",
       "      <td>0.029265</td>\n",
       "      <td>0.002228</td>\n",
       "      <td>0.080775</td>\n",
       "      <td>0.349111</td>\n",
       "      <td>1.000000</td>\n",
       "      <td>0.022542</td>\n",
       "    </tr>\n",
       "    <tr>\n",
       "      <th>IsActiveMember</th>\n",
       "      <td>0.011326</td>\n",
       "      <td>0.028267</td>\n",
       "      <td>-0.020947</td>\n",
       "      <td>0.009145</td>\n",
       "      <td>0.022542</td>\n",
       "      <td>1.000000</td>\n",
       "    </tr>\n",
       "  </tbody>\n",
       "</table>\n",
       "</div>"
      ],
      "text/plain": [
       "                Geography    Gender       Age   Balance  NumOfProducts  \\\n",
       "Geography        1.000000  0.017768  0.056581  0.333547       0.029265   \n",
       "Gender           0.017768  1.000000  0.029178 -0.005269       0.002228   \n",
       "Age              0.056581  0.029178  1.000000  0.033837       0.080775   \n",
       "Balance          0.333547 -0.005269  0.033837  1.000000       0.349111   \n",
       "NumOfProducts    0.029265  0.002228  0.080775  0.349111       1.000000   \n",
       "IsActiveMember   0.011326  0.028267 -0.020947  0.009145       0.022542   \n",
       "\n",
       "                IsActiveMember  \n",
       "Geography             0.011326  \n",
       "Gender                0.028267  \n",
       "Age                  -0.020947  \n",
       "Balance               0.009145  \n",
       "NumOfProducts         0.022542  \n",
       "IsActiveMember        1.000000  "
      ]
     },
     "execution_count": 23,
     "metadata": {},
     "output_type": "execute_result"
    }
   ],
   "source": [
    "filter_by_corr = FilterByCorrelation(corr_method='spearman', corr_threshold=0.5)\n",
    "\n",
    "filter_by_corr.fit(X_train_tmp, y_train)\n",
    "X_train_tmp = filter_by_corr.transform(X_train_tmp)\n",
    "filter_by_corr.after_corr_matrix"
   ]
  },
  {
   "cell_type": "markdown",
   "metadata": {},
   "source": [
    "## Classification models"
   ]
  },
  {
   "cell_type": "markdown",
   "metadata": {},
   "source": [
    "In connection with the target definition and the imbalanced dataset the models will be evaluated by **Weighted F1-score**.<br/>\n",
    "The same cross validation (k=10) will be used for all models to find the best probability threshold.<br/>\n",
    "The goal is to maximize the Weighted F1-score value in each iteration then the optimal threshold will be the average of the 10 values of train samples."
   ]
  },
  {
   "cell_type": "code",
   "execution_count": 24,
   "metadata": {},
   "outputs": [],
   "source": [
    "cv = KFold(n_splits=10, random_state=42, shuffle=True)"
   ]
  },
  {
   "cell_type": "markdown",
   "metadata": {},
   "source": [
    "### Logistic regression"
   ]
  },
  {
   "cell_type": "markdown",
   "metadata": {},
   "source": [
    "**Pipeline** from original numerical and dummy features to filter features based on correlation and apply a stepwise feature selection using cross validation to track feature importances."
   ]
  },
  {
   "cell_type": "markdown",
   "metadata": {},
   "source": [
    "Sort the list of features based on their correlation with the target and then apply a similar filter based on the values"
   ]
  },
  {
   "cell_type": "code",
   "execution_count": 25,
   "metadata": {},
   "outputs": [
    {
     "data": {
      "text/plain": [
       "Age                      0.280378\n",
       "Geography_Germany        0.182234\n",
       "HasJustCreditCard        0.132796\n",
       "Balance                  0.121441\n",
       "BalanceDivByEstSalary    0.027718\n",
       "EstimatedSalary          0.020260\n",
       "Tenure                  -0.002368\n",
       "HasCrCard               -0.014524\n",
       "CreditScore             -0.033998\n",
       "Geography_Spain         -0.054385\n",
       "NumOfProducts           -0.054462\n",
       "Gender_Male             -0.105920\n",
       "IsActiveMember          -0.152286\n",
       "ActiveScore             -0.154417\n",
       "dtype: float64"
      ]
     },
     "execution_count": 25,
     "metadata": {},
     "output_type": "execute_result"
    }
   ],
   "source": [
    "X_train[numerical_features+dummy_features].corrwith(y_train).sort_values(ascending=False)"
   ]
  },
  {
   "cell_type": "code",
   "execution_count": 26,
   "metadata": {},
   "outputs": [],
   "source": [
    "sorted_features = abs(X_train[numerical_features+dummy_features].corrwith(y_train)).sort_values(ascending=False).index.tolist()"
   ]
  },
  {
   "cell_type": "code",
   "execution_count": 27,
   "metadata": {},
   "outputs": [
    {
     "data": {
      "text/plain": [
       "({'Age': 10,\n",
       "  'Geography_Germany': 10,\n",
       "  'ActiveScore': 10,\n",
       "  'HasJustCreditCard': 10,\n",
       "  'Balance': 3,\n",
       "  'Gender_Male': 10,\n",
       "  'Geography_Spain': 0,\n",
       "  'CreditScore': 0,\n",
       "  'BalanceDivByEstSalary': 0,\n",
       "  'EstimatedSalary': 2,\n",
       "  'HasCrCard': 10,\n",
       "  'Tenure': 0},\n",
       " ['Age',\n",
       "  'Geography_Germany',\n",
       "  'ActiveScore',\n",
       "  'HasJustCreditCard',\n",
       "  'Gender_Male',\n",
       "  'HasCrCard'])"
      ]
     },
     "execution_count": 27,
     "metadata": {},
     "output_type": "execute_result"
    }
   ],
   "source": [
    "pipeline_dummy_cv = Pipeline([('filter_corr', FilterByCorrelation(sorted=True, corr_method='pearson', corr_threshold=0.5)),\n",
    "                              ('stepwise', StepwiseFeatureSelectionCV(cv=cv, cv_min=9, verbose=False))\n",
    "                              ])\n",
    "\n",
    "pipeline_dummy_cv.fit(X_train[sorted_features], y_train)\n",
    "pipeline_dummy_cv[1].cv_features, pipeline_dummy_cv[1].feature_list\n"
   ]
  },
  {
   "cell_type": "markdown",
   "metadata": {},
   "source": [
    "Final **Pipeline** for Logistic Regression model fitting using the same steps, but only using the list of features from the previous pipeline's stepwise output instead of applying it again."
   ]
  },
  {
   "cell_type": "code",
   "execution_count": 28,
   "metadata": {},
   "outputs": [],
   "source": [
    "pipeline_dummy_final = Pipeline([('filter_corr', FilterByCorrelation(corr_method='pearson', corr_threshold=0.5)),\n",
    "                                 ('logistic_regression', LogisticRegression())\n",
    "                                 ])\n",
    "\n",
    "pipeline_dummy_final.fit(X_train[pipeline_dummy_cv[1].feature_list], y_train);"
   ]
  },
  {
   "cell_type": "markdown",
   "metadata": {},
   "source": [
    "**Pipeline** for Weight of Evidence transformation and a stepwise feature selection using the same cross validation to track feature importances."
   ]
  },
  {
   "cell_type": "code",
   "execution_count": 29,
   "metadata": {},
   "outputs": [
    {
     "data": {
      "text/plain": [
       "({'Age': 10,\n",
       "  'Balance': 0,\n",
       "  'NumOfProducts': 10,\n",
       "  'IsActiveMember': 10,\n",
       "  'Geography': 10,\n",
       "  'Gender': 10},\n",
       " ['Age', 'NumOfProducts', 'IsActiveMember', 'Geography', 'Gender'])"
      ]
     },
     "execution_count": 29,
     "metadata": {},
     "output_type": "execute_result"
    }
   ],
   "source": [
    "pipeline_woe_cv = Pipeline([('fine_classing', FineClassing()),\n",
    "                         ('filter_iv_fine', FilterByInformationValue(iv_threshold=0.05)),\n",
    "                         ('coarse_classing', CoarseClassing()),\n",
    "                         ('filter_iv_coarse', FilterByInformationValue(iv_threshold=0.05)),\n",
    "                         ('filter_corr', FilterByCorrelation(corr_method='spearman', corr_threshold=0.5)),\n",
    "                         ('stepwise', StepwiseFeatureSelectionCV(cv=cv, cv_min=9, verbose=False))\n",
    "                         ])\n",
    "\n",
    "pipeline_woe_cv.fit(X_train[numerical_features+categorical_features], y_train)\n",
    "pipeline_woe_cv[5].cv_features, pipeline_woe_cv[5].feature_list"
   ]
  },
  {
   "cell_type": "markdown",
   "metadata": {},
   "source": [
    "Final **Pipeline** for Logistic Regression model fitting using the same steps, but only using the list of features from the previous pipeline's stepwise output instead of applying it again."
   ]
  },
  {
   "cell_type": "code",
   "execution_count": 30,
   "metadata": {},
   "outputs": [],
   "source": [
    "pipeline_woe_final = Pipeline([('fine_classing', FineClassing()),\n",
    "                         ('filter_iv_fine', FilterByInformationValue(iv_threshold=0.05)),\n",
    "                         ('coarse_classing', CoarseClassing()),\n",
    "                         ('filter_iv_coarse', FilterByInformationValue(iv_threshold=0.05)),\n",
    "                         ('filter_corr', FilterByCorrelation(corr_method='spearman', corr_threshold=0.5)),\n",
    "                         ('logistic_regression', LogisticRegression())\n",
    "                         ])\n",
    "\n",
    "pipeline_woe_final.fit(X_train[pipeline_woe_cv[5].feature_list], y_train);"
   ]
  },
  {
   "cell_type": "markdown",
   "metadata": {},
   "source": [
    "* Using numerical and **dummy** features"
   ]
  },
  {
   "cell_type": "markdown",
   "metadata": {},
   "source": [
    "Calculate optimal probability threshold:"
   ]
  },
  {
   "cell_type": "code",
   "execution_count": 31,
   "metadata": {},
   "outputs": [
    {
     "data": {
      "text/plain": [
       "Threshold            0.35800\n",
       "Area Under Curve     0.78358\n",
       "Accuracy             0.80347\n",
       "Precision            0.52362\n",
       "Recall               0.43514\n",
       "F1-score             0.47433\n",
       "Weighted F1-score    0.79629\n",
       "dtype: float64"
      ]
     },
     "execution_count": 31,
     "metadata": {},
     "output_type": "execute_result"
    }
   ],
   "source": [
    "results = find_threshold_cv(pipeline_dummy_final, X_train[pipeline_dummy_cv[1].feature_list], y_train, cv)\n",
    "results.mean()"
   ]
  },
  {
   "cell_type": "markdown",
   "metadata": {},
   "source": [
    "Performance on train and test sample:"
   ]
  },
  {
   "cell_type": "code",
   "execution_count": 32,
   "metadata": {},
   "outputs": [
    {
     "data": {
      "text/html": [
       "<div>\n",
       "<style scoped>\n",
       "    .dataframe tbody tr th:only-of-type {\n",
       "        vertical-align: middle;\n",
       "    }\n",
       "\n",
       "    .dataframe tbody tr th {\n",
       "        vertical-align: top;\n",
       "    }\n",
       "\n",
       "    .dataframe thead th {\n",
       "        text-align: right;\n",
       "    }\n",
       "</style>\n",
       "<table border=\"1\" class=\"dataframe\">\n",
       "  <thead>\n",
       "    <tr style=\"text-align: right;\">\n",
       "      <th></th>\n",
       "      <th>Area Under Curve</th>\n",
       "      <th>Accuracy</th>\n",
       "      <th>Precision</th>\n",
       "      <th>Recall</th>\n",
       "      <th>F1-score</th>\n",
       "      <th>Weighted F1-score</th>\n",
       "    </tr>\n",
       "  </thead>\n",
       "  <tbody>\n",
       "    <tr>\n",
       "      <th>0</th>\n",
       "      <td>0.7771</td>\n",
       "      <td>0.8027</td>\n",
       "      <td>0.5196</td>\n",
       "      <td>0.4227</td>\n",
       "      <td>0.4662</td>\n",
       "      <td>0.7949</td>\n",
       "    </tr>\n",
       "  </tbody>\n",
       "</table>\n",
       "</div>"
      ],
      "text/plain": [
       "   Area Under Curve  Accuracy  Precision  Recall  F1-score  Weighted F1-score\n",
       "0            0.7771    0.8027     0.5196  0.4227    0.4662             0.7949"
      ]
     },
     "execution_count": 32,
     "metadata": {},
     "output_type": "execute_result"
    }
   ],
   "source": [
    "test_threshold(pipeline_dummy_final, X_train[pipeline_dummy_cv[1].feature_list], y_train, 0.358)"
   ]
  },
  {
   "cell_type": "code",
   "execution_count": 33,
   "metadata": {},
   "outputs": [
    {
     "data": {
      "text/html": [
       "<div>\n",
       "<style scoped>\n",
       "    .dataframe tbody tr th:only-of-type {\n",
       "        vertical-align: middle;\n",
       "    }\n",
       "\n",
       "    .dataframe tbody tr th {\n",
       "        vertical-align: top;\n",
       "    }\n",
       "\n",
       "    .dataframe thead th {\n",
       "        text-align: right;\n",
       "    }\n",
       "</style>\n",
       "<table border=\"1\" class=\"dataframe\">\n",
       "  <thead>\n",
       "    <tr style=\"text-align: right;\">\n",
       "      <th></th>\n",
       "      <th>Area Under Curve</th>\n",
       "      <th>Accuracy</th>\n",
       "      <th>Precision</th>\n",
       "      <th>Recall</th>\n",
       "      <th>F1-score</th>\n",
       "      <th>Weighted F1-score</th>\n",
       "    </tr>\n",
       "  </thead>\n",
       "  <tbody>\n",
       "    <tr>\n",
       "      <th>0</th>\n",
       "      <td>0.7896</td>\n",
       "      <td>0.8165</td>\n",
       "      <td>0.5637</td>\n",
       "      <td>0.4349</td>\n",
       "      <td>0.491</td>\n",
       "      <td>0.8073</td>\n",
       "    </tr>\n",
       "  </tbody>\n",
       "</table>\n",
       "</div>"
      ],
      "text/plain": [
       "   Area Under Curve  Accuracy  Precision  Recall  F1-score  Weighted F1-score\n",
       "0            0.7896    0.8165     0.5637  0.4349     0.491             0.8073"
      ]
     },
     "execution_count": 33,
     "metadata": {},
     "output_type": "execute_result"
    }
   ],
   "source": [
    "test_threshold(pipeline_dummy_final, X_test[pipeline_dummy_cv[1].feature_list], y_test, 0.358)"
   ]
  },
  {
   "cell_type": "markdown",
   "metadata": {},
   "source": [
    "* Using **weight of evidence** transformed features"
   ]
  },
  {
   "cell_type": "markdown",
   "metadata": {},
   "source": [
    "Calculate optimal probability threshold:"
   ]
  },
  {
   "cell_type": "code",
   "execution_count": 34,
   "metadata": {},
   "outputs": [
    {
     "data": {
      "text/plain": [
       "Threshold            0.41000\n",
       "Area Under Curve     0.80550\n",
       "Accuracy             0.83130\n",
       "Precision            0.63374\n",
       "Recall               0.41482\n",
       "F1-score             0.50022\n",
       "Weighted F1-score    0.81688\n",
       "dtype: float64"
      ]
     },
     "execution_count": 34,
     "metadata": {},
     "output_type": "execute_result"
    }
   ],
   "source": [
    "results = find_threshold_cv(pipeline_woe_final, X_train[pipeline_woe_cv[5].feature_list], y_train, cv)\n",
    "results.mean()"
   ]
  },
  {
   "cell_type": "markdown",
   "metadata": {},
   "source": [
    "Performance on train and test sample:"
   ]
  },
  {
   "cell_type": "code",
   "execution_count": 35,
   "metadata": {},
   "outputs": [
    {
     "data": {
      "text/html": [
       "<div>\n",
       "<style scoped>\n",
       "    .dataframe tbody tr th:only-of-type {\n",
       "        vertical-align: middle;\n",
       "    }\n",
       "\n",
       "    .dataframe tbody tr th {\n",
       "        vertical-align: top;\n",
       "    }\n",
       "\n",
       "    .dataframe thead th {\n",
       "        text-align: right;\n",
       "    }\n",
       "</style>\n",
       "<table border=\"1\" class=\"dataframe\">\n",
       "  <thead>\n",
       "    <tr style=\"text-align: right;\">\n",
       "      <th></th>\n",
       "      <th>Area Under Curve</th>\n",
       "      <th>Accuracy</th>\n",
       "      <th>Precision</th>\n",
       "      <th>Recall</th>\n",
       "      <th>F1-score</th>\n",
       "      <th>Weighted F1-score</th>\n",
       "    </tr>\n",
       "  </thead>\n",
       "  <tbody>\n",
       "    <tr>\n",
       "      <th>0</th>\n",
       "      <td>0.8003</td>\n",
       "      <td>0.8289</td>\n",
       "      <td>0.6221</td>\n",
       "      <td>0.408</td>\n",
       "      <td>0.4928</td>\n",
       "      <td>0.8147</td>\n",
       "    </tr>\n",
       "  </tbody>\n",
       "</table>\n",
       "</div>"
      ],
      "text/plain": [
       "   Area Under Curve  Accuracy  Precision  Recall  F1-score  Weighted F1-score\n",
       "0            0.8003    0.8289     0.6221   0.408    0.4928             0.8147"
      ]
     },
     "execution_count": 35,
     "metadata": {},
     "output_type": "execute_result"
    }
   ],
   "source": [
    "test_threshold(pipeline_woe_final, X_train[pipeline_woe_cv[5].feature_list], y_train, 0.41)"
   ]
  },
  {
   "cell_type": "code",
   "execution_count": 36,
   "metadata": {},
   "outputs": [
    {
     "data": {
      "text/html": [
       "<div>\n",
       "<style scoped>\n",
       "    .dataframe tbody tr th:only-of-type {\n",
       "        vertical-align: middle;\n",
       "    }\n",
       "\n",
       "    .dataframe tbody tr th {\n",
       "        vertical-align: top;\n",
       "    }\n",
       "\n",
       "    .dataframe thead th {\n",
       "        text-align: right;\n",
       "    }\n",
       "</style>\n",
       "<table border=\"1\" class=\"dataframe\">\n",
       "  <thead>\n",
       "    <tr style=\"text-align: right;\">\n",
       "      <th></th>\n",
       "      <th>Area Under Curve</th>\n",
       "      <th>Accuracy</th>\n",
       "      <th>Precision</th>\n",
       "      <th>Recall</th>\n",
       "      <th>F1-score</th>\n",
       "      <th>Weighted F1-score</th>\n",
       "    </tr>\n",
       "  </thead>\n",
       "  <tbody>\n",
       "    <tr>\n",
       "      <th>0</th>\n",
       "      <td>0.7997</td>\n",
       "      <td>0.8295</td>\n",
       "      <td>0.6269</td>\n",
       "      <td>0.4005</td>\n",
       "      <td>0.4888</td>\n",
       "      <td>0.8145</td>\n",
       "    </tr>\n",
       "  </tbody>\n",
       "</table>\n",
       "</div>"
      ],
      "text/plain": [
       "   Area Under Curve  Accuracy  Precision  Recall  F1-score  Weighted F1-score\n",
       "0            0.7997    0.8295     0.6269  0.4005    0.4888             0.8145"
      ]
     },
     "execution_count": 36,
     "metadata": {},
     "output_type": "execute_result"
    }
   ],
   "source": [
    "test_threshold(pipeline_woe_final, X_test[pipeline_woe_cv[5].feature_list], y_test, 0.41)"
   ]
  },
  {
   "cell_type": "markdown",
   "metadata": {},
   "source": [
    "### Decision Tree"
   ]
  },
  {
   "cell_type": "code",
   "execution_count": 37,
   "metadata": {},
   "outputs": [
    {
     "data": {
      "text/plain": [
       "{'criterion': 'entropy', 'max_depth': 5}"
      ]
     },
     "execution_count": 37,
     "metadata": {},
     "output_type": "execute_result"
    }
   ],
   "source": [
    "params_dtree = {'max_depth': [2,3,4,5], 'criterion': ['gini','entropy']}\n",
    "grid_dtree = GridSearchCV(DecisionTreeClassifier(min_samples_leaf=0.05),\n",
    "                          params_dtree, cv=cv, scoring='roc_auc', n_jobs=-1)\n",
    "\n",
    "grid_dtree.fit(X_train[numerical_features+dummy_features], y_train)\n",
    "grid_dtree.best_params_"
   ]
  },
  {
   "cell_type": "markdown",
   "metadata": {},
   "source": [
    "Calculate optimal probability threshold:"
   ]
  },
  {
   "cell_type": "code",
   "execution_count": 38,
   "metadata": {},
   "outputs": [
    {
     "data": {
      "text/plain": [
       "Threshold            0.32200\n",
       "Area Under Curve     0.80204\n",
       "Accuracy             0.81334\n",
       "Precision            0.55616\n",
       "Recall               0.46588\n",
       "F1-score             0.50013\n",
       "Weighted F1-score    0.80603\n",
       "dtype: float64"
      ]
     },
     "execution_count": 38,
     "metadata": {},
     "output_type": "execute_result"
    }
   ],
   "source": [
    "results = find_threshold_cv(grid_dtree.best_estimator_, X_train[numerical_features+dummy_features], y_train, cv)\n",
    "results.mean()"
   ]
  },
  {
   "cell_type": "markdown",
   "metadata": {},
   "source": [
    "Performance on train and test sample:"
   ]
  },
  {
   "cell_type": "code",
   "execution_count": 39,
   "metadata": {},
   "outputs": [
    {
     "data": {
      "text/html": [
       "<div>\n",
       "<style scoped>\n",
       "    .dataframe tbody tr th:only-of-type {\n",
       "        vertical-align: middle;\n",
       "    }\n",
       "\n",
       "    .dataframe tbody tr th {\n",
       "        vertical-align: top;\n",
       "    }\n",
       "\n",
       "    .dataframe thead th {\n",
       "        text-align: right;\n",
       "    }\n",
       "</style>\n",
       "<table border=\"1\" class=\"dataframe\">\n",
       "  <thead>\n",
       "    <tr style=\"text-align: right;\">\n",
       "      <th></th>\n",
       "      <th>Area Under Curve</th>\n",
       "      <th>Accuracy</th>\n",
       "      <th>Precision</th>\n",
       "      <th>Recall</th>\n",
       "      <th>F1-score</th>\n",
       "      <th>Weighted F1-score</th>\n",
       "    </tr>\n",
       "  </thead>\n",
       "  <tbody>\n",
       "    <tr>\n",
       "      <th>0</th>\n",
       "      <td>0.7998</td>\n",
       "      <td>0.8117</td>\n",
       "      <td>0.5417</td>\n",
       "      <td>0.4939</td>\n",
       "      <td>0.5167</td>\n",
       "      <td>0.8085</td>\n",
       "    </tr>\n",
       "  </tbody>\n",
       "</table>\n",
       "</div>"
      ],
      "text/plain": [
       "   Area Under Curve  Accuracy  Precision  Recall  F1-score  Weighted F1-score\n",
       "0            0.7998    0.8117     0.5417  0.4939    0.5167             0.8085"
      ]
     },
     "execution_count": 39,
     "metadata": {},
     "output_type": "execute_result"
    }
   ],
   "source": [
    "test_threshold(grid_dtree.best_estimator_, X_train[numerical_features+dummy_features], y_train, 0.322)"
   ]
  },
  {
   "cell_type": "code",
   "execution_count": 40,
   "metadata": {},
   "outputs": [
    {
     "data": {
      "text/html": [
       "<div>\n",
       "<style scoped>\n",
       "    .dataframe tbody tr th:only-of-type {\n",
       "        vertical-align: middle;\n",
       "    }\n",
       "\n",
       "    .dataframe tbody tr th {\n",
       "        vertical-align: top;\n",
       "    }\n",
       "\n",
       "    .dataframe thead th {\n",
       "        text-align: right;\n",
       "    }\n",
       "</style>\n",
       "<table border=\"1\" class=\"dataframe\">\n",
       "  <thead>\n",
       "    <tr style=\"text-align: right;\">\n",
       "      <th></th>\n",
       "      <th>Area Under Curve</th>\n",
       "      <th>Accuracy</th>\n",
       "      <th>Precision</th>\n",
       "      <th>Recall</th>\n",
       "      <th>F1-score</th>\n",
       "      <th>Weighted F1-score</th>\n",
       "    </tr>\n",
       "  </thead>\n",
       "  <tbody>\n",
       "    <tr>\n",
       "      <th>0</th>\n",
       "      <td>0.7982</td>\n",
       "      <td>0.811</td>\n",
       "      <td>0.5379</td>\n",
       "      <td>0.5061</td>\n",
       "      <td>0.5215</td>\n",
       "      <td>0.8088</td>\n",
       "    </tr>\n",
       "  </tbody>\n",
       "</table>\n",
       "</div>"
      ],
      "text/plain": [
       "   Area Under Curve  Accuracy  Precision  Recall  F1-score  Weighted F1-score\n",
       "0            0.7982     0.811     0.5379  0.5061    0.5215             0.8088"
      ]
     },
     "execution_count": 40,
     "metadata": {},
     "output_type": "execute_result"
    }
   ],
   "source": [
    "test_threshold(grid_dtree.best_estimator_, X_test[numerical_features+dummy_features], y_test, 0.322)"
   ]
  },
  {
   "cell_type": "markdown",
   "metadata": {},
   "source": [
    "### Random Forest"
   ]
  },
  {
   "cell_type": "code",
   "execution_count": 41,
   "metadata": {},
   "outputs": [
    {
     "data": {
      "text/plain": [
       "{'criterion': 'gini', 'max_depth': 4, 'n_estimators': 150}"
      ]
     },
     "execution_count": 41,
     "metadata": {},
     "output_type": "execute_result"
    }
   ],
   "source": [
    "params_rf = {'n_estimators': [100,125,150], 'max_depth': [2,3,4], 'criterion':['gini','entropy']}\n",
    "grid_rf = GridSearchCV(RandomForestClassifier(min_samples_leaf=0.05, random_state=0),\n",
    "                        param_grid=params_rf, cv=cv, scoring='roc_auc', n_jobs=-1)\n",
    "\n",
    "grid_rf.fit(X_train[numerical_features+dummy_features], y_train)\n",
    "grid_rf.best_params_"
   ]
  },
  {
   "cell_type": "markdown",
   "metadata": {},
   "source": [
    "Calculate optimal probability threshold:"
   ]
  },
  {
   "cell_type": "code",
   "execution_count": 42,
   "metadata": {},
   "outputs": [
    {
     "data": {
      "text/plain": [
       "Threshold            0.31100\n",
       "Area Under Curve     0.81095\n",
       "Accuracy             0.83543\n",
       "Precision            0.64463\n",
       "Recall               0.43618\n",
       "F1-score             0.51742\n",
       "Weighted F1-score    0.82215\n",
       "dtype: float64"
      ]
     },
     "execution_count": 42,
     "metadata": {},
     "output_type": "execute_result"
    }
   ],
   "source": [
    "results = find_threshold_cv(grid_rf.best_estimator_, X_train[numerical_features+dummy_features], y_train, cv)\n",
    "results.mean()"
   ]
  },
  {
   "cell_type": "markdown",
   "metadata": {},
   "source": [
    "Performance on train and test sample:"
   ]
  },
  {
   "cell_type": "code",
   "execution_count": 43,
   "metadata": {},
   "outputs": [
    {
     "data": {
      "text/html": [
       "<div>\n",
       "<style scoped>\n",
       "    .dataframe tbody tr th:only-of-type {\n",
       "        vertical-align: middle;\n",
       "    }\n",
       "\n",
       "    .dataframe tbody tr th {\n",
       "        vertical-align: top;\n",
       "    }\n",
       "\n",
       "    .dataframe thead th {\n",
       "        text-align: right;\n",
       "    }\n",
       "</style>\n",
       "<table border=\"1\" class=\"dataframe\">\n",
       "  <thead>\n",
       "    <tr style=\"text-align: right;\">\n",
       "      <th></th>\n",
       "      <th>Area Under Curve</th>\n",
       "      <th>Accuracy</th>\n",
       "      <th>Precision</th>\n",
       "      <th>Recall</th>\n",
       "      <th>F1-score</th>\n",
       "      <th>Weighted F1-score</th>\n",
       "    </tr>\n",
       "  </thead>\n",
       "  <tbody>\n",
       "    <tr>\n",
       "      <th>0</th>\n",
       "      <td>0.8078</td>\n",
       "      <td>0.8323</td>\n",
       "      <td>0.6297</td>\n",
       "      <td>0.4288</td>\n",
       "      <td>0.5102</td>\n",
       "      <td>0.8196</td>\n",
       "    </tr>\n",
       "  </tbody>\n",
       "</table>\n",
       "</div>"
      ],
      "text/plain": [
       "   Area Under Curve  Accuracy  Precision  Recall  F1-score  Weighted F1-score\n",
       "0            0.8078    0.8323     0.6297  0.4288    0.5102             0.8196"
      ]
     },
     "execution_count": 43,
     "metadata": {},
     "output_type": "execute_result"
    }
   ],
   "source": [
    "test_threshold(grid_rf.best_estimator_, X_train[numerical_features+dummy_features], y_train, 0.311)"
   ]
  },
  {
   "cell_type": "code",
   "execution_count": 44,
   "metadata": {},
   "outputs": [
    {
     "data": {
      "text/html": [
       "<div>\n",
       "<style scoped>\n",
       "    .dataframe tbody tr th:only-of-type {\n",
       "        vertical-align: middle;\n",
       "    }\n",
       "\n",
       "    .dataframe tbody tr th {\n",
       "        vertical-align: top;\n",
       "    }\n",
       "\n",
       "    .dataframe thead th {\n",
       "        text-align: right;\n",
       "    }\n",
       "</style>\n",
       "<table border=\"1\" class=\"dataframe\">\n",
       "  <thead>\n",
       "    <tr style=\"text-align: right;\">\n",
       "      <th></th>\n",
       "      <th>Area Under Curve</th>\n",
       "      <th>Accuracy</th>\n",
       "      <th>Precision</th>\n",
       "      <th>Recall</th>\n",
       "      <th>F1-score</th>\n",
       "      <th>Weighted F1-score</th>\n",
       "    </tr>\n",
       "  </thead>\n",
       "  <tbody>\n",
       "    <tr>\n",
       "      <th>0</th>\n",
       "      <td>0.8075</td>\n",
       "      <td>0.832</td>\n",
       "      <td>0.6254</td>\n",
       "      <td>0.4349</td>\n",
       "      <td>0.513</td>\n",
       "      <td>0.8201</td>\n",
       "    </tr>\n",
       "  </tbody>\n",
       "</table>\n",
       "</div>"
      ],
      "text/plain": [
       "   Area Under Curve  Accuracy  Precision  Recall  F1-score  Weighted F1-score\n",
       "0            0.8075     0.832     0.6254  0.4349     0.513             0.8201"
      ]
     },
     "execution_count": 44,
     "metadata": {},
     "output_type": "execute_result"
    }
   ],
   "source": [
    "test_threshold(grid_rf.best_estimator_, X_test[numerical_features+dummy_features], y_test, 0.311)"
   ]
  },
  {
   "cell_type": "markdown",
   "metadata": {},
   "source": [
    "### Gradient Boosting Tree"
   ]
  },
  {
   "cell_type": "code",
   "execution_count": 45,
   "metadata": {},
   "outputs": [
    {
     "data": {
      "text/plain": [
       "{'learning_rate': 0.1, 'max_depth': 3, 'n_estimators': 125}"
      ]
     },
     "execution_count": 45,
     "metadata": {},
     "output_type": "execute_result"
    }
   ],
   "source": [
    "params_gbt = {'n_estimators': [100,125,150], 'max_depth': [2,3,4], 'learning_rate': [0.01,0.1,0.2]}\n",
    "grid_gbt = GridSearchCV(GradientBoostingClassifier(min_samples_leaf=0.05),\n",
    "                        param_grid=params_gbt, cv=cv, scoring='roc_auc', n_jobs=-1)\n",
    "\n",
    "grid_gbt.fit(X_train[numerical_features+dummy_features], y_train)\n",
    "grid_gbt.best_params_"
   ]
  },
  {
   "cell_type": "markdown",
   "metadata": {},
   "source": [
    "Calculate optimal probability threshold:"
   ]
  },
  {
   "cell_type": "code",
   "execution_count": 46,
   "metadata": {},
   "outputs": [
    {
     "data": {
      "text/plain": [
       "Threshold            0.43900\n",
       "Area Under Curve     0.85165\n",
       "Accuracy             0.85042\n",
       "Precision            0.70169\n",
       "Recall               0.47154\n",
       "F1-score             0.56256\n",
       "Weighted F1-score    0.83857\n",
       "dtype: float64"
      ]
     },
     "execution_count": 46,
     "metadata": {},
     "output_type": "execute_result"
    }
   ],
   "source": [
    "results = find_threshold_cv(grid_gbt.best_estimator_, X_train[numerical_features+dummy_features], y_train, cv)\n",
    "results.mean()"
   ]
  },
  {
   "cell_type": "markdown",
   "metadata": {},
   "source": [
    "Performance on train and test sample:"
   ]
  },
  {
   "cell_type": "code",
   "execution_count": 47,
   "metadata": {},
   "outputs": [
    {
     "data": {
      "text/html": [
       "<div>\n",
       "<style scoped>\n",
       "    .dataframe tbody tr th:only-of-type {\n",
       "        vertical-align: middle;\n",
       "    }\n",
       "\n",
       "    .dataframe tbody tr th {\n",
       "        vertical-align: top;\n",
       "    }\n",
       "\n",
       "    .dataframe thead th {\n",
       "        text-align: right;\n",
       "    }\n",
       "</style>\n",
       "<table border=\"1\" class=\"dataframe\">\n",
       "  <thead>\n",
       "    <tr style=\"text-align: right;\">\n",
       "      <th></th>\n",
       "      <th>Area Under Curve</th>\n",
       "      <th>Accuracy</th>\n",
       "      <th>Precision</th>\n",
       "      <th>Recall</th>\n",
       "      <th>F1-score</th>\n",
       "      <th>Weighted F1-score</th>\n",
       "    </tr>\n",
       "  </thead>\n",
       "  <tbody>\n",
       "    <tr>\n",
       "      <th>0</th>\n",
       "      <td>0.8491</td>\n",
       "      <td>0.8515</td>\n",
       "      <td>0.7028</td>\n",
       "      <td>0.4699</td>\n",
       "      <td>0.5632</td>\n",
       "      <td>0.8398</td>\n",
       "    </tr>\n",
       "  </tbody>\n",
       "</table>\n",
       "</div>"
      ],
      "text/plain": [
       "   Area Under Curve  Accuracy  Precision  Recall  F1-score  Weighted F1-score\n",
       "0            0.8491    0.8515     0.7028  0.4699    0.5632             0.8398"
      ]
     },
     "execution_count": 47,
     "metadata": {},
     "output_type": "execute_result"
    }
   ],
   "source": [
    "test_threshold(grid_gbt.best_estimator_, X_train[numerical_features+dummy_features], y_train, 0.439)"
   ]
  },
  {
   "cell_type": "code",
   "execution_count": 48,
   "metadata": {},
   "outputs": [
    {
     "data": {
      "text/html": [
       "<div>\n",
       "<style scoped>\n",
       "    .dataframe tbody tr th:only-of-type {\n",
       "        vertical-align: middle;\n",
       "    }\n",
       "\n",
       "    .dataframe tbody tr th {\n",
       "        vertical-align: top;\n",
       "    }\n",
       "\n",
       "    .dataframe thead th {\n",
       "        text-align: right;\n",
       "    }\n",
       "</style>\n",
       "<table border=\"1\" class=\"dataframe\">\n",
       "  <thead>\n",
       "    <tr style=\"text-align: right;\">\n",
       "      <th></th>\n",
       "      <th>Area Under Curve</th>\n",
       "      <th>Accuracy</th>\n",
       "      <th>Precision</th>\n",
       "      <th>Recall</th>\n",
       "      <th>F1-score</th>\n",
       "      <th>Weighted F1-score</th>\n",
       "    </tr>\n",
       "  </thead>\n",
       "  <tbody>\n",
       "    <tr>\n",
       "      <th>0</th>\n",
       "      <td>0.8253</td>\n",
       "      <td>0.842</td>\n",
       "      <td>0.6655</td>\n",
       "      <td>0.4496</td>\n",
       "      <td>0.5367</td>\n",
       "      <td>0.8299</td>\n",
       "    </tr>\n",
       "  </tbody>\n",
       "</table>\n",
       "</div>"
      ],
      "text/plain": [
       "   Area Under Curve  Accuracy  Precision  Recall  F1-score  Weighted F1-score\n",
       "0            0.8253     0.842     0.6655  0.4496    0.5367             0.8299"
      ]
     },
     "execution_count": 48,
     "metadata": {},
     "output_type": "execute_result"
    }
   ],
   "source": [
    "test_threshold(grid_gbt.best_estimator_, X_test[numerical_features+dummy_features], y_test, 0.439)"
   ]
  },
  {
   "cell_type": "markdown",
   "metadata": {},
   "source": [
    "### XGBoost"
   ]
  },
  {
   "cell_type": "code",
   "execution_count": 49,
   "metadata": {},
   "outputs": [
    {
     "data": {
      "text/plain": [
       "{'learning_rate': 0.125, 'max_depth': 2, 'n_estimators': 160}"
      ]
     },
     "execution_count": 49,
     "metadata": {},
     "output_type": "execute_result"
    }
   ],
   "source": [
    "params_xgb = {'n_estimators': [150,160,170], 'max_depth': [2], 'learning_rate': [0.075,0.1,0.125]}\n",
    "grid_xgb = GridSearchCV(XGBClassifier(),\n",
    "                        param_grid=params_xgb, cv=cv, scoring='roc_auc', n_jobs=-1)\n",
    "\n",
    "grid_xgb.fit(X_train[numerical_features+dummy_features], y_train)\n",
    "grid_xgb.best_params_"
   ]
  },
  {
   "cell_type": "markdown",
   "metadata": {},
   "source": [
    "Calculate optimal probability threshold:"
   ]
  },
  {
   "cell_type": "code",
   "execution_count": 50,
   "metadata": {},
   "outputs": [
    {
     "data": {
      "text/plain": [
       "Threshold            0.40200\n",
       "Area Under Curve     0.87995\n",
       "Accuracy             0.86859\n",
       "Precision            0.73496\n",
       "Recall               0.56369\n",
       "F1-score             0.63592\n",
       "Weighted F1-score    0.86163\n",
       "dtype: float64"
      ]
     },
     "execution_count": 50,
     "metadata": {},
     "output_type": "execute_result"
    }
   ],
   "source": [
    "results = find_threshold_cv(grid_xgb.best_estimator_, X_train[numerical_features+dummy_features], y_train, cv)\n",
    "results.mean()"
   ]
  },
  {
   "cell_type": "markdown",
   "metadata": {},
   "source": [
    "Performance on train and test sample:"
   ]
  },
  {
   "cell_type": "code",
   "execution_count": 51,
   "metadata": {},
   "outputs": [
    {
     "data": {
      "text/html": [
       "<div>\n",
       "<style scoped>\n",
       "    .dataframe tbody tr th:only-of-type {\n",
       "        vertical-align: middle;\n",
       "    }\n",
       "\n",
       "    .dataframe tbody tr th {\n",
       "        vertical-align: top;\n",
       "    }\n",
       "\n",
       "    .dataframe thead th {\n",
       "        text-align: right;\n",
       "    }\n",
       "</style>\n",
       "<table border=\"1\" class=\"dataframe\">\n",
       "  <thead>\n",
       "    <tr style=\"text-align: right;\">\n",
       "      <th></th>\n",
       "      <th>Area Under Curve</th>\n",
       "      <th>Accuracy</th>\n",
       "      <th>Precision</th>\n",
       "      <th>Recall</th>\n",
       "      <th>F1-score</th>\n",
       "      <th>Weighted F1-score</th>\n",
       "    </tr>\n",
       "  </thead>\n",
       "  <tbody>\n",
       "    <tr>\n",
       "      <th>0</th>\n",
       "      <td>0.8795</td>\n",
       "      <td>0.8681</td>\n",
       "      <td>0.7294</td>\n",
       "      <td>0.5607</td>\n",
       "      <td>0.6341</td>\n",
       "      <td>0.8614</td>\n",
       "    </tr>\n",
       "  </tbody>\n",
       "</table>\n",
       "</div>"
      ],
      "text/plain": [
       "   Area Under Curve  Accuracy  Precision  Recall  F1-score  Weighted F1-score\n",
       "0            0.8795    0.8681     0.7294  0.5607    0.6341             0.8614"
      ]
     },
     "execution_count": 51,
     "metadata": {},
     "output_type": "execute_result"
    }
   ],
   "source": [
    "test_threshold(grid_xgb.best_estimator_, X_train[numerical_features+dummy_features], y_train, 0.402)"
   ]
  },
  {
   "cell_type": "code",
   "execution_count": 52,
   "metadata": {},
   "outputs": [
    {
     "data": {
      "text/html": [
       "<div>\n",
       "<style scoped>\n",
       "    .dataframe tbody tr th:only-of-type {\n",
       "        vertical-align: middle;\n",
       "    }\n",
       "\n",
       "    .dataframe tbody tr th {\n",
       "        vertical-align: top;\n",
       "    }\n",
       "\n",
       "    .dataframe thead th {\n",
       "        text-align: right;\n",
       "    }\n",
       "</style>\n",
       "<table border=\"1\" class=\"dataframe\">\n",
       "  <thead>\n",
       "    <tr style=\"text-align: right;\">\n",
       "      <th></th>\n",
       "      <th>Area Under Curve</th>\n",
       "      <th>Accuracy</th>\n",
       "      <th>Precision</th>\n",
       "      <th>Recall</th>\n",
       "      <th>F1-score</th>\n",
       "      <th>Weighted F1-score</th>\n",
       "    </tr>\n",
       "  </thead>\n",
       "  <tbody>\n",
       "    <tr>\n",
       "      <th>0</th>\n",
       "      <td>0.8655</td>\n",
       "      <td>0.8645</td>\n",
       "      <td>0.7099</td>\n",
       "      <td>0.5651</td>\n",
       "      <td>0.6293</td>\n",
       "      <td>0.8585</td>\n",
       "    </tr>\n",
       "  </tbody>\n",
       "</table>\n",
       "</div>"
      ],
      "text/plain": [
       "   Area Under Curve  Accuracy  Precision  Recall  F1-score  Weighted F1-score\n",
       "0            0.8655    0.8645     0.7099  0.5651    0.6293             0.8585"
      ]
     },
     "execution_count": 52,
     "metadata": {},
     "output_type": "execute_result"
    }
   ],
   "source": [
    "test_threshold(grid_xgb.best_estimator_, X_test[numerical_features+dummy_features], y_test, 0.402)"
   ]
  },
  {
   "cell_type": "markdown",
   "metadata": {},
   "source": [
    "## Summary"
   ]
  },
  {
   "cell_type": "code",
   "execution_count": 53,
   "metadata": {},
   "outputs": [],
   "source": [
    "models_dict = {'Logistic Regression - Dummy': [pipeline_dummy_final,\n",
    "                                            X_test[pipeline_dummy_cv[1].feature_list], 0.43],\n",
    "\n",
    "               'Logistic Regression - WoE': [pipeline_woe_final,\n",
    "                                          X_test[pipeline_woe_cv[5].feature_list], 0.41],\n",
    "\n",
    "               'Decision Tree': [grid_dtree.best_estimator_,\n",
    "                                X_test[numerical_features+dummy_features], 0.322],\n",
    "\n",
    "               'Random Forest': [grid_rf.best_estimator_,\n",
    "                                X_test[numerical_features+dummy_features], 0.311],\n",
    "\n",
    "               'Gradient Boosting Tree': [grid_gbt.best_estimator_,\n",
    "                                        X_test[numerical_features+dummy_features], 0.439],\n",
    "               \n",
    "               'XGBoost': [grid_xgb.best_estimator_,\n",
    "                           X_test[numerical_features+dummy_features], 0.402]}"
   ]
  },
  {
   "cell_type": "code",
   "execution_count": 54,
   "metadata": {},
   "outputs": [
    {
     "data": {
      "image/png": "[encoded data removed]",
      "text/plain": [
       "<Figure size 800x600 with 1 Axes>"
      ]
     },
     "metadata": {},
     "output_type": "display_data"
    }
   ],
   "source": [
    "plot_roc_curve(models_dict, y_test)"
   ]
  },
  {
   "cell_type": "code",
   "execution_count": 55,
   "metadata": {},
   "outputs": [
    {
     "data": {
      "text/html": [
       "<div>\n",
       "<style scoped>\n",
       "    .dataframe tbody tr th:only-of-type {\n",
       "        vertical-align: middle;\n",
       "    }\n",
       "\n",
       "    .dataframe tbody tr th {\n",
       "        vertical-align: top;\n",
       "    }\n",
       "\n",
       "    .dataframe thead th {\n",
       "        text-align: right;\n",
       "    }\n",
       "</style>\n",
       "<table border=\"1\" class=\"dataframe\">\n",
       "  <thead>\n",
       "    <tr style=\"text-align: right;\">\n",
       "      <th></th>\n",
       "      <th>Area Under Curve</th>\n",
       "      <th>Accuracy</th>\n",
       "      <th>Precision</th>\n",
       "      <th>Recall</th>\n",
       "      <th>F1-score</th>\n",
       "      <th>Weighted F1-score</th>\n",
       "    </tr>\n",
       "  </thead>\n",
       "  <tbody>\n",
       "    <tr>\n",
       "      <th>XGBoost</th>\n",
       "      <td>0.8655</td>\n",
       "      <td>0.8645</td>\n",
       "      <td>0.7099</td>\n",
       "      <td>0.5651</td>\n",
       "      <td>0.6293</td>\n",
       "      <td>0.8585</td>\n",
       "    </tr>\n",
       "    <tr>\n",
       "      <th>Gradient Boosting Tree</th>\n",
       "      <td>0.8253</td>\n",
       "      <td>0.8420</td>\n",
       "      <td>0.6655</td>\n",
       "      <td>0.4496</td>\n",
       "      <td>0.5367</td>\n",
       "      <td>0.8299</td>\n",
       "    </tr>\n",
       "    <tr>\n",
       "      <th>Random Forest</th>\n",
       "      <td>0.8075</td>\n",
       "      <td>0.8320</td>\n",
       "      <td>0.6254</td>\n",
       "      <td>0.4349</td>\n",
       "      <td>0.5130</td>\n",
       "      <td>0.8201</td>\n",
       "    </tr>\n",
       "    <tr>\n",
       "      <th>Logistic Regression - WoE</th>\n",
       "      <td>0.7997</td>\n",
       "      <td>0.8295</td>\n",
       "      <td>0.6269</td>\n",
       "      <td>0.4005</td>\n",
       "      <td>0.4888</td>\n",
       "      <td>0.8145</td>\n",
       "    </tr>\n",
       "    <tr>\n",
       "      <th>Decision Tree</th>\n",
       "      <td>0.7982</td>\n",
       "      <td>0.8110</td>\n",
       "      <td>0.5379</td>\n",
       "      <td>0.5061</td>\n",
       "      <td>0.5215</td>\n",
       "      <td>0.8088</td>\n",
       "    </tr>\n",
       "    <tr>\n",
       "      <th>Logistic Regression - Dummy</th>\n",
       "      <td>0.7896</td>\n",
       "      <td>0.8150</td>\n",
       "      <td>0.5860</td>\n",
       "      <td>0.3096</td>\n",
       "      <td>0.4051</td>\n",
       "      <td>0.7917</td>\n",
       "    </tr>\n",
       "  </tbody>\n",
       "</table>\n",
       "</div>"
      ],
      "text/plain": [
       "                             Area Under Curve  Accuracy  Precision  Recall  \\\n",
       "XGBoost                                0.8655    0.8645     0.7099  0.5651   \n",
       "Gradient Boosting Tree                 0.8253    0.8420     0.6655  0.4496   \n",
       "Random Forest                          0.8075    0.8320     0.6254  0.4349   \n",
       "Logistic Regression - WoE              0.7997    0.8295     0.6269  0.4005   \n",
       "Decision Tree                          0.7982    0.8110     0.5379  0.5061   \n",
       "Logistic Regression - Dummy            0.7896    0.8150     0.5860  0.3096   \n",
       "\n",
       "                             F1-score  Weighted F1-score  \n",
       "XGBoost                        0.6293             0.8585  \n",
       "Gradient Boosting Tree         0.5367             0.8299  \n",
       "Random Forest                  0.5130             0.8201  \n",
       "Logistic Regression - WoE      0.4888             0.8145  \n",
       "Decision Tree                  0.5215             0.8088  \n",
       "Logistic Regression - Dummy    0.4051             0.7917  "
      ]
     },
     "execution_count": 55,
     "metadata": {},
     "output_type": "execute_result"
    }
   ],
   "source": [
    "summary = pd.DataFrame()\n",
    "for model_name, model_details in models_dict.items():\n",
    "    summary = pd.concat([summary, test_threshold(model_details[0], model_details[1], y_test, model_details[2]).rename(index={0: model_name})])\n",
    "summary.sort_values(by='Weighted F1-score', ascending=False)"
   ]
  },
  {
   "cell_type": "markdown",
   "metadata": {},
   "source": [
    "Based on the Weighted F1-score evaluation metric the **XGBoost** model is the best classification model for predicting churn."
   ]
  },
  {
   "cell_type": "markdown",
   "metadata": {},
   "source": [
    "Notebook running time:"
   ]
  },
  {
   "cell_type": "code",
   "execution_count": 56,
   "metadata": {},
   "outputs": [
    {
     "name": "stdout",
     "output_type": "stream",
     "text": [
      "3.5216 minutes.\n"
     ]
    }
   ],
   "source": [
    "print(f'{round((time.time() - start_time)/60,4)} minutes.')"
   ]
  }
 ],
 "metadata": {
  "kernelspec": {
   "display_name": "Python 3",
   "language": "python",
   "name": "python3"
  },
  "language_info": {
   "codemirror_mode": {
    "name": "ipython",
    "version": 3
   },
   "file_extension": ".py",
   "mimetype": "text/x-python",
   "name": "python",
   "nbconvert_exporter": "python",
   "pygments_lexer": "ipython3",
   "version": "3.11.9"
  }
 },
 "nbformat": 4,
 "nbformat_minor": 2
}
